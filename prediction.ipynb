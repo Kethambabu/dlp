{
 "cells": [
  {
   "cell_type": "code",
   "execution_count": 27,
   "id": "311065c1",
   "metadata": {},
   "outputs": [],
   "source": [
    "import tensorflow as tf\n",
    "from tensorflow.keras.models import load_model\n",
    "import pickle\n",
    "import numpy as np\n",
    "import pandas as pd"
   ]
  },
  {
   "cell_type": "code",
   "execution_count": 28,
   "id": "82788975",
   "metadata": {},
   "outputs": [],
   "source": [
    "#load the trained model,scaler pickle,onehot\n",
    "model=load_model('model.h5')\n",
    "with open('encoder_geography.pkl','rb') as file:\n",
    "    label_encoder_geo=pickle.load(file)\n",
    "with open('encoder_gender.pkl','rb') as file:\n",
    "    label_encoder_gender=pickle.load(file)\n",
    "with open ('scaler.pkl','rb') as file:\n",
    "    scaler=pickle.load(file)"
   ]
  },
  {
   "cell_type": "code",
   "execution_count": 29,
   "id": "dce89e1e",
   "metadata": {},
   "outputs": [],
   "source": [
    "input_data = {\n",
    "    'CreditScore': 600,\n",
    "    'Geography': 'France',\n",
    "    'Gender': 'Male',\n",
    "    'Age': 40,\n",
    "    'Tenure': 3,\n",
    "    'Balance': 60000,\n",
    "    'NumOfProducts': 2,\n",
    "    'HasCrCard': 1,\n",
    "    'IsActiveMember': 1,\n",
    "    'EstimatedSalary': 50000\n",
    "}"
   ]
  },
  {
   "cell_type": "code",
   "execution_count": 30,
   "id": "f3f3b62b",
   "metadata": {},
   "outputs": [
    {
     "name": "stdout",
     "output_type": "stream",
     "text": [
      "   Geography_France  Geography_Germany  Geography_Spain\n",
      "0               1.0                0.0              0.0\n"
     ]
    },
    {
     "name": "stderr",
     "output_type": "stream",
     "text": [
      "d:\\dlp\\venv\\lib\\site-packages\\sklearn\\base.py:465: UserWarning: X does not have valid feature names, but OneHotEncoder was fitted with feature names\n",
      "  warnings.warn(\n"
     ]
    }
   ],
   "source": [
    "from sklearn.preprocessing import OneHotEncoder\n",
    "import pandas as pd\n",
    "\n",
    "# Assume OneHotEncoder was fit on: ['France', 'Germany', 'Spain']\n",
    "geo_encoded = label_encoder_geo.transform([[input_data['Geography']]])  # shape: (1, 1)\n",
    "geo_encoded_array = geo_encoded.toarray()  # shape: (1, 3)\n",
    "\n",
    "# Column names like: ['Geography_France', 'Geography_Germany', 'Geography_Spain']\n",
    "geo_encoded_df = pd.DataFrame(\n",
    "    geo_encoded_array,\n",
    "    columns=label_encoder_geo.get_feature_names_out(['Geography'])\n",
    ")\n",
    "print(geo_encoded_df)\n"
   ]
  },
  {
   "cell_type": "code",
   "execution_count": 31,
   "id": "f7f70ca6",
   "metadata": {},
   "outputs": [
    {
     "data": {
      "text/html": [
       "<div>\n",
       "<style scoped>\n",
       "    .dataframe tbody tr th:only-of-type {\n",
       "        vertical-align: middle;\n",
       "    }\n",
       "\n",
       "    .dataframe tbody tr th {\n",
       "        vertical-align: top;\n",
       "    }\n",
       "\n",
       "    .dataframe thead th {\n",
       "        text-align: right;\n",
       "    }\n",
       "</style>\n",
       "<table border=\"1\" class=\"dataframe\">\n",
       "  <thead>\n",
       "    <tr style=\"text-align: right;\">\n",
       "      <th></th>\n",
       "      <th>CreditScore</th>\n",
       "      <th>Geography</th>\n",
       "      <th>Gender</th>\n",
       "      <th>Age</th>\n",
       "      <th>Tenure</th>\n",
       "      <th>Balance</th>\n",
       "      <th>NumOfProducts</th>\n",
       "      <th>HasCrCard</th>\n",
       "      <th>IsActiveMember</th>\n",
       "      <th>EstimatedSalary</th>\n",
       "    </tr>\n",
       "  </thead>\n",
       "  <tbody>\n",
       "    <tr>\n",
       "      <th>0</th>\n",
       "      <td>600</td>\n",
       "      <td>France</td>\n",
       "      <td>1</td>\n",
       "      <td>40</td>\n",
       "      <td>3</td>\n",
       "      <td>60000</td>\n",
       "      <td>2</td>\n",
       "      <td>1</td>\n",
       "      <td>1</td>\n",
       "      <td>50000</td>\n",
       "    </tr>\n",
       "  </tbody>\n",
       "</table>\n",
       "</div>"
      ],
      "text/plain": [
       "   CreditScore Geography  Gender  Age  Tenure  Balance  NumOfProducts  \\\n",
       "0          600    France       1   40       3    60000              2   \n",
       "\n",
       "   HasCrCard  IsActiveMember  EstimatedSalary  \n",
       "0          1               1            50000  "
      ]
     },
     "execution_count": 31,
     "metadata": {},
     "output_type": "execute_result"
    }
   ],
   "source": [
    "input_data=pd.DataFrame([input_data])\n",
    "input_data['Gender']=label_encoder_gender.transform(input_data['Gender'])\n",
    "input_data"
   ]
  },
  {
   "cell_type": "code",
   "execution_count": null,
   "id": "62d55849",
   "metadata": {},
   "outputs": [],
   "source": [
    "input_data = input_data.drop(columns=[\"Geography\"])\n",
    "# Merge the original input with the encoded geography dataframe\n",
    "input_data = pd.concat([input_data.reset_index(drop=True), geo_encoded_df], axis=1)\n",
    "  # or keep if not present"
   ]
  },
  {
   "cell_type": "code",
   "execution_count": 36,
   "id": "400f90cc",
   "metadata": {},
   "outputs": [
    {
     "name": "stdout",
     "output_type": "stream",
     "text": [
      "1/1 [==============================] - 0s 31ms/step\n",
      "user mqnchodu\n"
     ]
    }
   ],
   "source": [
    "\n",
    "\n",
    "# Scale the input data using the fitted scaler\n",
    "input_data_scaled = scaler.transform(input_data)\n",
    "\n",
    "# Predict using the loaded model\n",
    "prediction = model.predict(input_data_scaled)  # <-- FIXED 'preddict' typo\n",
    "\n",
    "# Get the predicted probability for the positive class (usually class 1)\n",
    "prediction_proba = prediction[0][0]\n",
    "\n",
    "# Interpret the result\n",
    "if prediction_proba > 0.5:\n",
    "    print(\"user yerripuku\")  # example for predicted class = 1\n",
    "else:\n",
    "    print(\"user mqnchodu\")   # example for predicted class = 0\n"
   ]
  },
  {
   "cell_type": "code",
   "execution_count": 34,
   "id": "9be9bc07",
   "metadata": {},
   "outputs": [
    {
     "data": {
      "text/plain": [
       "array([[-0.53598516,  0.91324755,  0.10479359, -0.69539349, -0.25781119,\n",
       "         0.80843615,  0.64920267,  0.97481699, -0.87683221,  1.00150113,\n",
       "        -0.57946723, -0.57638802]])"
      ]
     },
     "execution_count": 34,
     "metadata": {},
     "output_type": "execute_result"
    }
   ],
   "source": [
    "input_data_scaled"
   ]
  },
  {
   "cell_type": "code",
   "execution_count": null,
   "id": "b1806c7e",
   "metadata": {},
   "outputs": [],
   "source": []
  },
  {
   "cell_type": "code",
   "execution_count": null,
   "id": "c4477c72",
   "metadata": {},
   "outputs": [],
   "source": []
  },
  {
   "cell_type": "code",
   "execution_count": null,
   "id": "f9da9eaf",
   "metadata": {},
   "outputs": [],
   "source": []
  },
  {
   "cell_type": "code",
   "execution_count": null,
   "id": "56891fb1",
   "metadata": {},
   "outputs": [],
   "source": []
  },
  {
   "cell_type": "code",
   "execution_count": null,
   "id": "ef8043f9",
   "metadata": {},
   "outputs": [],
   "source": []
  },
  {
   "cell_type": "code",
   "execution_count": null,
   "metadata": {},
   "outputs": [],
   "source": []
  },
  {
   "cell_type": "code",
   "execution_count": null,
   "id": "c3576905",
   "metadata": {},
   "outputs": [],
   "source": []
  },
  {
   "cell_type": "code",
   "execution_count": null,
   "id": "71b28999",
   "metadata": {},
   "outputs": [],
   "source": []
  },
  {
   "cell_type": "code",
   "execution_count": null,
   "id": "e4226927",
   "metadata": {},
   "outputs": [],
   "source": []
  }
 ],
 "metadata": {
  "kernelspec": {
   "display_name": "Python 3",
   "language": "python",
   "name": "python3"
  },
  "language_info": {
   "codemirror_mode": {
    "name": "ipython",
    "version": 3
   },
   "file_extension": ".py",
   "mimetype": "text/x-python",
   "name": "python",
   "nbconvert_exporter": "python",
   "pygments_lexer": "ipython3",
   "version": "3.8.20"
  }
 },
 "nbformat": 4,
 "nbformat_minor": 5
}
